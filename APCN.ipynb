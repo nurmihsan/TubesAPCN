{
  "nbformat": 4,
  "nbformat_minor": 0,
  "metadata": {
    "colab": {
      "name": "APCN.ipynb",
      "provenance": [],
      "collapsed_sections": []
    },
    "kernelspec": {
      "name": "python3",
      "display_name": "Python 3"
    }
  },
  "cells": [
    {
      "cell_type": "code",
      "metadata": {
        "id": "fXWFqqYxzeu_"
      },
      "source": [
        "import pandas as pd\n",
        "import matplotlib.pyplot as plt\n",
        "import statistics"
      ],
      "execution_count": null,
      "outputs": []
    },
    {
      "cell_type": "code",
      "metadata": {
        "id": "4zAblCJ9sZu4"
      },
      "source": [
        ""
      ],
      "execution_count": null,
      "outputs": []
    },
    {
      "cell_type": "code",
      "metadata": {
        "id": "uwDEtuDI4zew",
        "colab": {
          "base_uri": "https://localhost:8080/"
        },
        "outputId": "31ba19d1-88d7-4c47-a4df-6c897ac59011"
      },
      "source": [
        "from google.colab import drive\n",
        "drive.mount('/content/drive')\n"
      ],
      "execution_count": null,
      "outputs": [
        {
          "output_type": "stream",
          "text": [
            "Drive already mounted at /content/drive; to attempt to forcibly remount, call drive.mount(\"/content/drive\", force_remount=True).\n"
          ],
          "name": "stdout"
        }
      ]
    },
    {
      "cell_type": "code",
      "metadata": {
        "id": "fEIRkeqE5h1g"
      },
      "source": [
        "path = '/content/drive/My Drive/apcn/tugas3.csv'\n",
        "df_bonus = pd.read_csv(path)"
      ],
      "execution_count": null,
      "outputs": []
    },
    {
      "cell_type": "code",
      "metadata": {
        "id": "W8C7W_BI6Fi-",
        "colab": {
          "base_uri": "https://localhost:8080/",
          "height": 198
        },
        "outputId": "81e5d02e-56e8-4ff9-c2f5-b69a40f43cd2"
      },
      "source": [
        "df_bonus.head()"
      ],
      "execution_count": null,
      "outputs": [
        {
          "output_type": "execute_result",
          "data": {
            "text/html": [
              "<div>\n",
              "<style scoped>\n",
              "    .dataframe tbody tr th:only-of-type {\n",
              "        vertical-align: middle;\n",
              "    }\n",
              "\n",
              "    .dataframe tbody tr th {\n",
              "        vertical-align: top;\n",
              "    }\n",
              "\n",
              "    .dataframe thead th {\n",
              "        text-align: right;\n",
              "    }\n",
              "</style>\n",
              "<table border=\"1\" class=\"dataframe\">\n",
              "  <thead>\n",
              "    <tr style=\"text-align: right;\">\n",
              "      <th></th>\n",
              "      <th>No.</th>\n",
              "      <th>Time</th>\n",
              "      <th>Source</th>\n",
              "      <th>Destination</th>\n",
              "      <th>Protocol</th>\n",
              "      <th>Length</th>\n",
              "      <th>Info</th>\n",
              "    </tr>\n",
              "  </thead>\n",
              "  <tbody>\n",
              "    <tr>\n",
              "      <th>0</th>\n",
              "      <td>1</td>\n",
              "      <td>0.000000</td>\n",
              "      <td>118.98.99.77</td>\n",
              "      <td>192.168.1.18</td>\n",
              "      <td>UDP</td>\n",
              "      <td>1392</td>\n",
              "      <td>443  &gt;  53267 Len=1350</td>\n",
              "    </tr>\n",
              "    <tr>\n",
              "      <th>1</th>\n",
              "      <td>2</td>\n",
              "      <td>0.003018</td>\n",
              "      <td>192.168.1.18</td>\n",
              "      <td>118.98.99.77</td>\n",
              "      <td>UDP</td>\n",
              "      <td>78</td>\n",
              "      <td>53267  &gt;  443 Len=36</td>\n",
              "    </tr>\n",
              "    <tr>\n",
              "      <th>2</th>\n",
              "      <td>3</td>\n",
              "      <td>0.022767</td>\n",
              "      <td>118.98.99.77</td>\n",
              "      <td>192.168.1.18</td>\n",
              "      <td>UDP</td>\n",
              "      <td>1392</td>\n",
              "      <td>443  &gt;  53267 Len=1350</td>\n",
              "    </tr>\n",
              "    <tr>\n",
              "      <th>3</th>\n",
              "      <td>4</td>\n",
              "      <td>0.024951</td>\n",
              "      <td>192.168.1.18</td>\n",
              "      <td>118.98.99.77</td>\n",
              "      <td>UDP</td>\n",
              "      <td>78</td>\n",
              "      <td>53267  &gt;  443 Len=36</td>\n",
              "    </tr>\n",
              "    <tr>\n",
              "      <th>4</th>\n",
              "      <td>5</td>\n",
              "      <td>0.033351</td>\n",
              "      <td>118.98.99.77</td>\n",
              "      <td>192.168.1.18</td>\n",
              "      <td>UDP</td>\n",
              "      <td>1392</td>\n",
              "      <td>443  &gt;  53267 Len=1350</td>\n",
              "    </tr>\n",
              "  </tbody>\n",
              "</table>\n",
              "</div>"
            ],
            "text/plain": [
              "   No.      Time        Source  ... Protocol Length                    Info\n",
              "0    1  0.000000  118.98.99.77  ...      UDP   1392  443  >  53267 Len=1350\n",
              "1    2  0.003018  192.168.1.18  ...      UDP     78    53267  >  443 Len=36\n",
              "2    3  0.022767  118.98.99.77  ...      UDP   1392  443  >  53267 Len=1350\n",
              "3    4  0.024951  192.168.1.18  ...      UDP     78    53267  >  443 Len=36\n",
              "4    5  0.033351  118.98.99.77  ...      UDP   1392  443  >  53267 Len=1350\n",
              "\n",
              "[5 rows x 7 columns]"
            ]
          },
          "metadata": {
            "tags": []
          },
          "execution_count": 4
        }
      ]
    },
    {
      "cell_type": "code",
      "metadata": {
        "id": "iOxhvTzW6Qxg",
        "colab": {
          "base_uri": "https://localhost:8080/",
          "height": 407
        },
        "outputId": "59f8def7-c42b-4e0c-b677-9923e4761204"
      },
      "source": [
        "rows = df_bonus[['No.','Time','Length']].copy()\n",
        "rows"
      ],
      "execution_count": null,
      "outputs": [
        {
          "output_type": "execute_result",
          "data": {
            "text/html": [
              "<div>\n",
              "<style scoped>\n",
              "    .dataframe tbody tr th:only-of-type {\n",
              "        vertical-align: middle;\n",
              "    }\n",
              "\n",
              "    .dataframe tbody tr th {\n",
              "        vertical-align: top;\n",
              "    }\n",
              "\n",
              "    .dataframe thead th {\n",
              "        text-align: right;\n",
              "    }\n",
              "</style>\n",
              "<table border=\"1\" class=\"dataframe\">\n",
              "  <thead>\n",
              "    <tr style=\"text-align: right;\">\n",
              "      <th></th>\n",
              "      <th>No.</th>\n",
              "      <th>Time</th>\n",
              "      <th>Length</th>\n",
              "    </tr>\n",
              "  </thead>\n",
              "  <tbody>\n",
              "    <tr>\n",
              "      <th>0</th>\n",
              "      <td>1</td>\n",
              "      <td>0.000000</td>\n",
              "      <td>1392</td>\n",
              "    </tr>\n",
              "    <tr>\n",
              "      <th>1</th>\n",
              "      <td>2</td>\n",
              "      <td>0.003018</td>\n",
              "      <td>78</td>\n",
              "    </tr>\n",
              "    <tr>\n",
              "      <th>2</th>\n",
              "      <td>3</td>\n",
              "      <td>0.022767</td>\n",
              "      <td>1392</td>\n",
              "    </tr>\n",
              "    <tr>\n",
              "      <th>3</th>\n",
              "      <td>4</td>\n",
              "      <td>0.024951</td>\n",
              "      <td>78</td>\n",
              "    </tr>\n",
              "    <tr>\n",
              "      <th>4</th>\n",
              "      <td>5</td>\n",
              "      <td>0.033351</td>\n",
              "      <td>1392</td>\n",
              "    </tr>\n",
              "    <tr>\n",
              "      <th>...</th>\n",
              "      <td>...</td>\n",
              "      <td>...</td>\n",
              "      <td>...</td>\n",
              "    </tr>\n",
              "    <tr>\n",
              "      <th>184428</th>\n",
              "      <td>184429</td>\n",
              "      <td>1864.879764</td>\n",
              "      <td>75</td>\n",
              "    </tr>\n",
              "    <tr>\n",
              "      <th>184429</th>\n",
              "      <td>184430</td>\n",
              "      <td>1864.891242</td>\n",
              "      <td>1392</td>\n",
              "    </tr>\n",
              "    <tr>\n",
              "      <th>184430</th>\n",
              "      <td>184431</td>\n",
              "      <td>1864.892678</td>\n",
              "      <td>75</td>\n",
              "    </tr>\n",
              "    <tr>\n",
              "      <th>184431</th>\n",
              "      <td>184432</td>\n",
              "      <td>1864.913753</td>\n",
              "      <td>1392</td>\n",
              "    </tr>\n",
              "    <tr>\n",
              "      <th>184432</th>\n",
              "      <td>184433</td>\n",
              "      <td>1864.914818</td>\n",
              "      <td>75</td>\n",
              "    </tr>\n",
              "  </tbody>\n",
              "</table>\n",
              "<p>184433 rows × 3 columns</p>\n",
              "</div>"
            ],
            "text/plain": [
              "           No.         Time  Length\n",
              "0            1     0.000000    1392\n",
              "1            2     0.003018      78\n",
              "2            3     0.022767    1392\n",
              "3            4     0.024951      78\n",
              "4            5     0.033351    1392\n",
              "...        ...          ...     ...\n",
              "184428  184429  1864.879764      75\n",
              "184429  184430  1864.891242    1392\n",
              "184430  184431  1864.892678      75\n",
              "184431  184432  1864.913753    1392\n",
              "184432  184433  1864.914818      75\n",
              "\n",
              "[184433 rows x 3 columns]"
            ]
          },
          "metadata": {
            "tags": []
          },
          "execution_count": 5
        }
      ]
    },
    {
      "cell_type": "code",
      "metadata": {
        "id": "ELQ_J6FW8JNU",
        "colab": {
          "base_uri": "https://localhost:8080/",
          "height": 407
        },
        "outputId": "549a68d7-572e-4840-91bd-7e6111b98259"
      },
      "source": [
        "#Pilih menit\n",
        "pmenit = df_bonus.loc[(df_bonus['Time'] > 10) & (df_bonus['Time'] < 20)]\n",
        "pmenit"
      ],
      "execution_count": null,
      "outputs": [
        {
          "output_type": "execute_result",
          "data": {
            "text/html": [
              "<div>\n",
              "<style scoped>\n",
              "    .dataframe tbody tr th:only-of-type {\n",
              "        vertical-align: middle;\n",
              "    }\n",
              "\n",
              "    .dataframe tbody tr th {\n",
              "        vertical-align: top;\n",
              "    }\n",
              "\n",
              "    .dataframe thead th {\n",
              "        text-align: right;\n",
              "    }\n",
              "</style>\n",
              "<table border=\"1\" class=\"dataframe\">\n",
              "  <thead>\n",
              "    <tr style=\"text-align: right;\">\n",
              "      <th></th>\n",
              "      <th>No.</th>\n",
              "      <th>Time</th>\n",
              "      <th>Source</th>\n",
              "      <th>Destination</th>\n",
              "      <th>Protocol</th>\n",
              "      <th>Length</th>\n",
              "      <th>Info</th>\n",
              "    </tr>\n",
              "  </thead>\n",
              "  <tbody>\n",
              "    <tr>\n",
              "      <th>268</th>\n",
              "      <td>269</td>\n",
              "      <td>10.208206</td>\n",
              "      <td>118.98.99.77</td>\n",
              "      <td>192.168.1.18</td>\n",
              "      <td>UDP</td>\n",
              "      <td>1392</td>\n",
              "      <td>443  &gt;  53267 Len=1350</td>\n",
              "    </tr>\n",
              "    <tr>\n",
              "      <th>269</th>\n",
              "      <td>270</td>\n",
              "      <td>10.208453</td>\n",
              "      <td>192.168.1.18</td>\n",
              "      <td>118.98.99.77</td>\n",
              "      <td>UDP</td>\n",
              "      <td>88</td>\n",
              "      <td>53267  &gt;  443 Len=46</td>\n",
              "    </tr>\n",
              "    <tr>\n",
              "      <th>270</th>\n",
              "      <td>271</td>\n",
              "      <td>10.229898</td>\n",
              "      <td>118.98.99.77</td>\n",
              "      <td>192.168.1.18</td>\n",
              "      <td>UDP</td>\n",
              "      <td>1392</td>\n",
              "      <td>443  &gt;  53267 Len=1350</td>\n",
              "    </tr>\n",
              "    <tr>\n",
              "      <th>271</th>\n",
              "      <td>272</td>\n",
              "      <td>10.230105</td>\n",
              "      <td>192.168.1.18</td>\n",
              "      <td>118.98.99.77</td>\n",
              "      <td>UDP</td>\n",
              "      <td>88</td>\n",
              "      <td>53267  &gt;  443 Len=46</td>\n",
              "    </tr>\n",
              "    <tr>\n",
              "      <th>272</th>\n",
              "      <td>273</td>\n",
              "      <td>10.252784</td>\n",
              "      <td>118.98.99.77</td>\n",
              "      <td>192.168.1.18</td>\n",
              "      <td>UDP</td>\n",
              "      <td>1392</td>\n",
              "      <td>443  &gt;  53267 Len=1350</td>\n",
              "    </tr>\n",
              "    <tr>\n",
              "      <th>...</th>\n",
              "      <td>...</td>\n",
              "      <td>...</td>\n",
              "      <td>...</td>\n",
              "      <td>...</td>\n",
              "      <td>...</td>\n",
              "      <td>...</td>\n",
              "      <td>...</td>\n",
              "    </tr>\n",
              "    <tr>\n",
              "      <th>801</th>\n",
              "      <td>802</td>\n",
              "      <td>19.976722</td>\n",
              "      <td>118.98.99.77</td>\n",
              "      <td>192.168.1.18</td>\n",
              "      <td>UDP</td>\n",
              "      <td>1392</td>\n",
              "      <td>443  &gt;  53267 Len=1350</td>\n",
              "    </tr>\n",
              "    <tr>\n",
              "      <th>802</th>\n",
              "      <td>803</td>\n",
              "      <td>19.978520</td>\n",
              "      <td>192.168.1.18</td>\n",
              "      <td>118.98.99.77</td>\n",
              "      <td>UDP</td>\n",
              "      <td>75</td>\n",
              "      <td>53267  &gt;  443 Len=33</td>\n",
              "    </tr>\n",
              "    <tr>\n",
              "      <th>803</th>\n",
              "      <td>804</td>\n",
              "      <td>19.995034</td>\n",
              "      <td>118.98.99.77</td>\n",
              "      <td>192.168.1.18</td>\n",
              "      <td>UDP</td>\n",
              "      <td>1392</td>\n",
              "      <td>443  &gt;  53267 Len=1350</td>\n",
              "    </tr>\n",
              "    <tr>\n",
              "      <th>804</th>\n",
              "      <td>805</td>\n",
              "      <td>19.996202</td>\n",
              "      <td>118.98.99.77</td>\n",
              "      <td>192.168.1.18</td>\n",
              "      <td>UDP</td>\n",
              "      <td>1392</td>\n",
              "      <td>443  &gt;  53267 Len=1350</td>\n",
              "    </tr>\n",
              "    <tr>\n",
              "      <th>805</th>\n",
              "      <td>806</td>\n",
              "      <td>19.996752</td>\n",
              "      <td>192.168.1.18</td>\n",
              "      <td>118.98.99.77</td>\n",
              "      <td>UDP</td>\n",
              "      <td>75</td>\n",
              "      <td>53267  &gt;  443 Len=33</td>\n",
              "    </tr>\n",
              "  </tbody>\n",
              "</table>\n",
              "<p>538 rows × 7 columns</p>\n",
              "</div>"
            ],
            "text/plain": [
              "     No.       Time        Source  ... Protocol Length                    Info\n",
              "268  269  10.208206  118.98.99.77  ...      UDP   1392  443  >  53267 Len=1350\n",
              "269  270  10.208453  192.168.1.18  ...      UDP     88    53267  >  443 Len=46\n",
              "270  271  10.229898  118.98.99.77  ...      UDP   1392  443  >  53267 Len=1350\n",
              "271  272  10.230105  192.168.1.18  ...      UDP     88    53267  >  443 Len=46\n",
              "272  273  10.252784  118.98.99.77  ...      UDP   1392  443  >  53267 Len=1350\n",
              "..   ...        ...           ...  ...      ...    ...                     ...\n",
              "801  802  19.976722  118.98.99.77  ...      UDP   1392  443  >  53267 Len=1350\n",
              "802  803  19.978520  192.168.1.18  ...      UDP     75    53267  >  443 Len=33\n",
              "803  804  19.995034  118.98.99.77  ...      UDP   1392  443  >  53267 Len=1350\n",
              "804  805  19.996202  118.98.99.77  ...      UDP   1392  443  >  53267 Len=1350\n",
              "805  806  19.996752  192.168.1.18  ...      UDP     75    53267  >  443 Len=33\n",
              "\n",
              "[538 rows x 7 columns]"
            ]
          },
          "metadata": {
            "tags": []
          },
          "execution_count": 6
        }
      ]
    },
    {
      "cell_type": "code",
      "metadata": {
        "id": "l3WvxgV99tu8",
        "colab": {
          "base_uri": "https://localhost:8080/",
          "height": 265
        },
        "outputId": "b46b452e-d095-41de-e5b4-29ec4de6d221"
      },
      "source": [
        "#Plot sumbu x dan y\n",
        "x = rows['No.'] \n",
        "y = rows['Length']\n",
        "\n",
        "\n",
        "plt.scatter(x, y, alpha=0.5)\n",
        "plt.show()"
      ],
      "execution_count": null,
      "outputs": [
        {
          "output_type": "display_data",
          "data": {
            "image/png": "[encoded data removed]",
            "text/plain": [
              "<Figure size 432x288 with 1 Axes>"
            ]
          },
          "metadata": {
            "tags": [],
            "needs_background": "light"
          }
        }
      ]
    },
    {
      "cell_type": "code",
      "metadata": {
        "id": "q4QEcuYL_xcp",
        "colab": {
          "base_uri": "https://localhost:8080/",
          "height": 295
        },
        "outputId": "09c958ee-179a-4cbe-aee8-65c1302e8014"
      },
      "source": [
        "#Distribusi Frequensi\n",
        "n, bins, patches = plt.hist(x=rows['No.'], bins='auto', color='#0504aa',\n",
        "                            alpha=0.7, rwidth=0.85)\n",
        "plt.grid(axis='y', alpha=0.75)\n",
        "plt.xlabel('Value')\n",
        "plt.ylabel('Frequency')\n",
        "plt.title('My Very Own Histogram')\n",
        "maxfreq = n.max()"
      ],
      "execution_count": null,
      "outputs": [
        {
          "output_type": "display_data",
          "data": {
            "image/png": "[encoded data removed]",
            "text/plain": [
              "<Figure size 432x288 with 1 Axes>"
            ]
          },
          "metadata": {
            "tags": [],
            "needs_background": "light"
          }
        }
      ]
    },
    {
      "cell_type": "code",
      "metadata": {
        "id": "K8bhp624A7Yt",
        "colab": {
          "base_uri": "https://localhost:8080/"
        },
        "outputId": "e421941f-14d1-4042-c54e-e4a00f8ad0fd"
      },
      "source": [
        "#modus\n",
        "data = rows['Length']\n",
        "print(statistics.mode(data))"
      ],
      "execution_count": null,
      "outputs": [
        {
          "output_type": "stream",
          "text": [
            "1392\n"
          ],
          "name": "stdout"
        }
      ]
    },
    {
      "cell_type": "code",
      "metadata": {
        "id": "emXHtH8dR6XG",
        "colab": {
          "base_uri": "https://localhost:8080/"
        },
        "outputId": "2d08565d-14a9-405c-ebb8-e0dd971bc02a"
      },
      "source": [
        "#mean, variance, standar deviasi\n",
        "data = rows['Length']\n",
        "  \n",
        "x = statistics.mean(data) \n",
        "print(\"Mean is :\", x) \n",
        "print(\"Variance is :\", statistics.variance(data, xbar = -100))\n",
        "print(\"Standard Deviation of Data set is % s\" \n",
        "         %(statistics.stdev(data, xbar = x)))"
      ],
      "execution_count": null,
      "outputs": [
        {
          "output_type": "stream",
          "text": [
            "Mean is : 774.3559991975405\n",
            "Variance is : 430396.135420126\n",
            "Standard Deviation of Data set is 656.0458333227383\n"
          ],
          "name": "stdout"
        }
      ]
    },
    {
      "cell_type": "code",
      "metadata": {
        "id": "1pw_uBlZT74D"
      },
      "source": [
        ""
      ],
      "execution_count": null,
      "outputs": []
    }
  ]
}